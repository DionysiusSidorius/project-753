{
  "nbformat": 4,
  "nbformat_minor": 0,
  "metadata": {
    "colab": {
      "provenance": [],
      "authorship_tag": "ABX9TyMEMBCtA3Yt+qwElMHzyjJ1"
    },
    "kernelspec": {
      "name": "python3",
      "display_name": "Python 3"
    },
    "language_info": {
      "name": "python"
    }
  },
  "cells": [
    {
      "cell_type": "markdown",
      "source": [
        "CAN I SAVE THE CHANGES???"
      ],
      "metadata": {
        "id": "TGONOV9moRih"
      }
    },
    {
      "cell_type": "code",
      "source": [
        "!pip install uniparser_morph"
      ],
      "metadata": {
        "colab": {
          "base_uri": "https://localhost:8080/"
        },
        "id": "-nhmKB38bfkq",
        "outputId": "45a847b0-bf16-4d7e-e3ae-12e0411e9e97"
      },
      "execution_count": 1,
      "outputs": [
        {
          "output_type": "stream",
          "name": "stdout",
          "text": [
            "Collecting uniparser_morph\n",
            "  Downloading uniparser_morph-2.7.5-py3-none-any.whl.metadata (5.9 kB)\n",
            "Downloading uniparser_morph-2.7.5-py3-none-any.whl (58 kB)\n",
            "\u001b[2K   \u001b[90m━━━━━━━━━━━━━━━━━━━━━━━━━━━━━━━━━━━━━━━━\u001b[0m \u001b[32m58.3/58.3 kB\u001b[0m \u001b[31m1.9 MB/s\u001b[0m eta \u001b[36m0:00:00\u001b[0m\n",
            "\u001b[?25hInstalling collected packages: uniparser_morph\n",
            "Successfully installed uniparser_morph-2.7.5\n"
          ]
        }
      ]
    },
    {
      "cell_type": "code",
      "execution_count": 2,
      "metadata": {
        "id": "ow5uDVXSbRFQ",
        "outputId": "a4bef935-78b7-47ec-f0cf-423de9580df8",
        "colab": {
          "base_uri": "https://localhost:8080/"
        }
      },
      "outputs": [
        {
          "output_type": "stream",
          "name": "stdout",
          "text": [
            "Cloning into 'project-753'...\n",
            "remote: Enumerating objects: 74, done.\u001b[K\n",
            "remote: Counting objects: 100% (74/74), done.\u001b[K\n",
            "remote: Compressing objects: 100% (65/65), done.\u001b[K\n",
            "remote: Total 74 (delta 21), reused 31 (delta 5), pack-reused 0 (from 0)\u001b[K\n",
            "Receiving objects: 100% (74/74), 801.96 KiB | 9.32 MiB/s, done.\n",
            "Resolving deltas: 100% (21/21), done.\n"
          ]
        }
      ],
      "source": [
        "!git clone https://github.com/DionysiusSidorius/project-753.git\n",
        "from uniparser_morph import Analyzer\n",
        "a = Analyzer()\n",
        "a.lexFile = \"/content/project-753/lexemes.txt\"\n",
        "a.paradigmFile = \"/content/project-753/paradigms.txt\"\n",
        "a.load_grammar()"
      ]
    },
    {
      "cell_type": "code",
      "source": [
        "analyses = a.analyze_words(['test', \"buenos\"])\n",
        "print(analyses)"
      ],
      "metadata": {
        "colab": {
          "base_uri": "https://localhost:8080/"
        },
        "id": "XpqySNe3bo6y",
        "outputId": "71e20be0-e9ef-47d6-bcb4-5e03c770df09"
      },
      "execution_count": 5,
      "outputs": [
        {
          "output_type": "stream",
          "name": "stdout",
          "text": [
            "[[<Wordform object>\n",
            "test\n",
            "test; NOUN,sg\n",
            "test\n",
            "STEM\n",
            "trans_en\ttestus\n",
            "], [<Wordform object>\n",
            "buenos\n",
            "bueno; ADJ,M.Pl\n",
            "buen-os\n",
            "STEM\n",
            "trans_en\tgood\n",
            "]]\n"
          ]
        }
      ]
    },
    {
      "cell_type": "code",
      "source": [
        "with open('lexemes.txt', 'w') as lex:\n",
        "  lex.write(\n",
        "      \"\"\"-lexeme\n",
        " lex: test\n",
        " stem: test.\n",
        " gramm: NOUN\n",
        " paradigm: NOM\n",
        " trans_en: testus\n",
        "      \"\"\"\n",
        "  )\n",
        "with open('paradigms.txt', 'w') as par:\n",
        "  par.write(\n",
        "      \"\"\"-paradigm: NOM\n",
        " -flex: .\n",
        "  gramm: sg\n",
        " -flex: .s\n",
        "  gramm: pl\n",
        "  gloss: PL\n",
        " -flex: .'s\n",
        "  gramm: sg,poss\n",
        "  gloss: POSS\n",
        " -flex: .s'\n",
        "  gramm: pl,poss\n",
        "  gloss: POSS.PL\n",
        "      \"\"\"\n",
        "  )\n"
      ],
      "metadata": {
        "id": "EWAXALUrdkf0"
      },
      "execution_count": null,
      "outputs": []
    },
    {
      "cell_type": "code",
      "source": [
        "a = eval(\"['hombre', 'sennor', 3]\")\n",
        "print(a[2]+1)"
      ],
      "metadata": {
        "id": "-xO8oZr77sh5",
        "outputId": "2d2e7e1a-c1bc-49db-f5c0-658e86e9207b",
        "colab": {
          "base_uri": "https://localhost:8080/"
        }
      },
      "execution_count": 11,
      "outputs": [
        {
          "output_type": "stream",
          "name": "stdout",
          "text": [
            "4\n"
          ]
        }
      ]
    },
    {
      "cell_type": "code",
      "source": [
        "!pip install gdown\n",
        "import gdown\n",
        "gdown.download(f\"https://docs.google.com/spreadsheets/d/1CibXbP7WEfA3yTs48tTdfEvtm4pNZKztuA-wirFTQ9I/edit?usp=sharing\", 'vocab.csv', quiet=False)"
      ],
      "metadata": {
        "collapsed": true,
        "id": "I7ScdUze91AW",
        "outputId": "15c485f4-abd9-4c4b-d20f-b0195eaff880",
        "colab": {
          "base_uri": "https://localhost:8080/",
          "height": 368
        }
      },
      "execution_count": 12,
      "outputs": [
        {
          "output_type": "stream",
          "name": "stdout",
          "text": [
            "Requirement already satisfied: gdown in /usr/local/lib/python3.11/dist-packages (5.2.0)\n",
            "Requirement already satisfied: beautifulsoup4 in /usr/local/lib/python3.11/dist-packages (from gdown) (4.13.3)\n",
            "Requirement already satisfied: filelock in /usr/local/lib/python3.11/dist-packages (from gdown) (3.18.0)\n",
            "Requirement already satisfied: requests[socks] in /usr/local/lib/python3.11/dist-packages (from gdown) (2.32.3)\n",
            "Requirement already satisfied: tqdm in /usr/local/lib/python3.11/dist-packages (from gdown) (4.67.1)\n",
            "Requirement already satisfied: soupsieve>1.2 in /usr/local/lib/python3.11/dist-packages (from beautifulsoup4->gdown) (2.6)\n",
            "Requirement already satisfied: typing-extensions>=4.0.0 in /usr/local/lib/python3.11/dist-packages (from beautifulsoup4->gdown) (4.13.0)\n",
            "Requirement already satisfied: charset-normalizer<4,>=2 in /usr/local/lib/python3.11/dist-packages (from requests[socks]->gdown) (3.4.1)\n",
            "Requirement already satisfied: idna<4,>=2.5 in /usr/local/lib/python3.11/dist-packages (from requests[socks]->gdown) (3.10)\n",
            "Requirement already satisfied: urllib3<3,>=1.21.1 in /usr/local/lib/python3.11/dist-packages (from requests[socks]->gdown) (2.3.0)\n",
            "Requirement already satisfied: certifi>=2017.4.17 in /usr/local/lib/python3.11/dist-packages (from requests[socks]->gdown) (2025.1.31)\n",
            "Requirement already satisfied: PySocks!=1.5.7,>=1.5.6 in /usr/local/lib/python3.11/dist-packages (from requests[socks]->gdown) (1.7.1)\n"
          ]
        },
        {
          "output_type": "stream",
          "name": "stderr",
          "text": [
            "/usr/local/lib/python3.11/dist-packages/gdown/parse_url.py:48: UserWarning: You specified a Google Drive link that is not the correct link to download a file. You might want to try `--fuzzy` option or the following url: https://drive.google.com/uc?id=1CibXbP7WEfA3yTs48tTdfEvtm4pNZKztuA-wirFTQ9I\n",
            "  warnings.warn(\n",
            "Downloading...\n",
            "From: https://docs.google.com/spreadsheets/d/1CibXbP7WEfA3yTs48tTdfEvtm4pNZKztuA-wirFTQ9I/edit?usp=sharing\n",
            "To: /content/vocab.csv\n",
            "494kB [00:00, 4.50MB/s]\n"
          ]
        },
        {
          "output_type": "execute_result",
          "data": {
            "text/plain": [
              "'vocab.csv'"
            ],
            "application/vnd.google.colaboratory.intrinsic+json": {
              "type": "string"
            }
          },
          "metadata": {},
          "execution_count": 12
        }
      ]
    },
    {
      "cell_type": "code",
      "source": [],
      "metadata": {
        "id": "ee2Bk_m6-Lg1"
      },
      "execution_count": null,
      "outputs": []
    }
  ]
}