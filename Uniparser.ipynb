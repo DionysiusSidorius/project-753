{
  "nbformat": 4,
  "nbformat_minor": 0,
  "metadata": {
    "colab": {
      "provenance": [],
      "authorship_tag": "ABX9TyPZagZ8XBYiPtwysVk/Ns3/"
    },
    "kernelspec": {
      "name": "python3",
      "display_name": "Python 3"
    },
    "language_info": {
      "name": "python"
    }
  },
  "cells": [
    {
      "cell_type": "markdown",
      "source": [
        "CAN I SAVE THE CHANGES???"
      ],
      "metadata": {
        "id": "TGONOV9moRih"
      }
    },
    {
      "cell_type": "code",
      "source": [
        "!pip install uniparser_morph"
      ],
      "metadata": {
        "colab": {
          "base_uri": "https://localhost:8080/"
        },
        "id": "-nhmKB38bfkq",
        "outputId": "af174d0c-f174-417b-b559-9e6734e3d6b9"
      },
      "execution_count": null,
      "outputs": [
        {
          "output_type": "stream",
          "name": "stdout",
          "text": [
            "Collecting uniparser_morph\n",
            "  Downloading uniparser_morph-2.7.5-py3-none-any.whl.metadata (5.9 kB)\n",
            "Downloading uniparser_morph-2.7.5-py3-none-any.whl (58 kB)\n",
            "\u001b[2K   \u001b[90m━━━━━━━━━━━━━━━━━━━━━━━━━━━━━━━━━━━━━━━━\u001b[0m \u001b[32m58.3/58.3 kB\u001b[0m \u001b[31m638.8 kB/s\u001b[0m eta \u001b[36m0:00:00\u001b[0m\n",
            "\u001b[?25hInstalling collected packages: uniparser_morph\n",
            "Successfully installed uniparser_morph-2.7.5\n"
          ]
        }
      ]
    },
    {
      "cell_type": "code",
      "source": [
        "with open('lexemes.txt', 'w') as lex:\n",
        "  lex.write(\n",
        "      \"\"\"-lexeme\n",
        " lex: test\n",
        " stem: test.\n",
        " gramm: NOUN\n",
        " paradigm: NOM\n",
        " trans_en: testus\n",
        "      \"\"\"\n",
        "  )\n",
        "with open('paradigms.txt', 'w') as par:\n",
        "  par.write(\n",
        "      \"\"\"-paradigm: NOM\n",
        " -flex: .\n",
        "  gramm: sg\n",
        " -flex: .s\n",
        "  gramm: pl\n",
        "  gloss: PL\n",
        " -flex: .'s\n",
        "  gramm: sg,poss\n",
        "  gloss: POSS\n",
        " -flex: .s'\n",
        "  gramm: pl,poss\n",
        "  gloss: POSS.PL\n",
        "      \"\"\"\n",
        "  )\n"
      ],
      "metadata": {
        "id": "EWAXALUrdkf0"
      },
      "execution_count": null,
      "outputs": []
    },
    {
      "cell_type": "code",
      "execution_count": null,
      "metadata": {
        "id": "ow5uDVXSbRFQ"
      },
      "outputs": [],
      "source": [
        "from uniparser_morph import Analyzer\n",
        "a = Analyzer()\n",
        "a.load_grammar()"
      ]
    },
    {
      "cell_type": "code",
      "source": [
        "analyses = a.analyze_words(['tests', \"test's\"])\n",
        "print(analyses)"
      ],
      "metadata": {
        "colab": {
          "base_uri": "https://localhost:8080/"
        },
        "id": "XpqySNe3bo6y",
        "outputId": "3fad5d09-b9e3-43e2-c9a1-7df3aa7339b6"
      },
      "execution_count": null,
      "outputs": [
        {
          "output_type": "stream",
          "name": "stdout",
          "text": [
            "[[<Wordform object>\n",
            "tests\n",
            "test; NOUN,pl\n",
            "test-s\n",
            "STEM-PL\n",
            "trans_en\ttestus\n",
            "], [<Wordform object>\n",
            "test's\n",
            "test; NOUN,poss,sg\n",
            "test-'s\n",
            "STEM-POSS\n",
            "trans_en\ttestus\n",
            "]]\n"
          ]
        }
      ]
    }
  ]
}