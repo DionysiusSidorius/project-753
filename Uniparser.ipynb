{
  "nbformat": 4,
  "nbformat_minor": 0,
  "metadata": {
    "colab": {
      "provenance": [],
      "authorship_tag": "ABX9TyMt0SpmYQTjls459+lYj4hA"
    },
    "kernelspec": {
      "name": "python3",
      "display_name": "Python 3"
    },
    "language_info": {
      "name": "python"
    }
  },
  "cells": [
    {
      "cell_type": "markdown",
      "source": [
        "CAN I SAVE THE CHANGES???"
      ],
      "metadata": {
        "id": "TGONOV9moRih"
      }
    },
    {
      "cell_type": "code",
      "source": [
        "!pip install uniparser_morph"
      ],
      "metadata": {
        "colab": {
          "base_uri": "https://localhost:8080/"
        },
        "id": "-nhmKB38bfkq",
        "outputId": "45a847b0-bf16-4d7e-e3ae-12e0411e9e97"
      },
      "execution_count": null,
      "outputs": [
        {
          "output_type": "stream",
          "name": "stdout",
          "text": [
            "Collecting uniparser_morph\n",
            "  Downloading uniparser_morph-2.7.5-py3-none-any.whl.metadata (5.9 kB)\n",
            "Downloading uniparser_morph-2.7.5-py3-none-any.whl (58 kB)\n",
            "\u001b[2K   \u001b[90m━━━━━━━━━━━━━━━━━━━━━━━━━━━━━━━━━━━━━━━━\u001b[0m \u001b[32m58.3/58.3 kB\u001b[0m \u001b[31m1.9 MB/s\u001b[0m eta \u001b[36m0:00:00\u001b[0m\n",
            "\u001b[?25hInstalling collected packages: uniparser_morph\n",
            "Successfully installed uniparser_morph-2.7.5\n"
          ]
        }
      ]
    },
    {
      "cell_type": "code",
      "source": [
        "!git clone https://github.com/DionysiusSidorius/project-753.git"
      ],
      "metadata": {
        "id": "tehQU_gtHerE",
        "outputId": "94ab59ed-1ef3-4228-d357-e5c6d0034386",
        "colab": {
          "base_uri": "https://localhost:8080/"
        }
      },
      "execution_count": 1,
      "outputs": [
        {
          "output_type": "stream",
          "name": "stdout",
          "text": [
            "Cloning into 'project-753'...\n",
            "remote: Enumerating objects: 95, done.\u001b[K\n",
            "remote: Counting objects: 100% (95/95), done.\u001b[K\n",
            "remote: Compressing objects: 100% (86/86), done.\u001b[K\n",
            "remote: Total 95 (delta 33), reused 31 (delta 5), pack-reused 0 (from 0)\u001b[K\n",
            "Receiving objects: 100% (95/95), 7.97 MiB | 3.57 MiB/s, done.\n",
            "Resolving deltas: 100% (33/33), done.\n"
          ]
        }
      ]
    },
    {
      "cell_type": "code",
      "execution_count": null,
      "metadata": {
        "id": "ow5uDVXSbRFQ",
        "colab": {
          "base_uri": "https://localhost:8080/",
          "height": 401
        },
        "outputId": "1441ab45-f2cf-4dce-831b-babf24a28d10"
      },
      "outputs": [
        {
          "output_type": "stream",
          "name": "stdout",
          "text": [
            "fatal: destination path 'project-753' already exists and is not an empty directory.\n"
          ]
        },
        {
          "output_type": "error",
          "ename": "ModuleNotFoundError",
          "evalue": "No module named 'uniparser_morph'",
          "traceback": [
            "\u001b[0;31m---------------------------------------------------------------------------\u001b[0m",
            "\u001b[0;31mModuleNotFoundError\u001b[0m                       Traceback (most recent call last)",
            "\u001b[0;32m<ipython-input-72-0732ba43146f>\u001b[0m in \u001b[0;36m<cell line: 0>\u001b[0;34m()\u001b[0m\n\u001b[1;32m      1\u001b[0m \u001b[0mget_ipython\u001b[0m\u001b[0;34m(\u001b[0m\u001b[0;34m)\u001b[0m\u001b[0;34m.\u001b[0m\u001b[0msystem\u001b[0m\u001b[0;34m(\u001b[0m\u001b[0;34m'git clone https://github.com/DionysiusSidorius/project-753.git'\u001b[0m\u001b[0;34m)\u001b[0m\u001b[0;34m\u001b[0m\u001b[0;34m\u001b[0m\u001b[0m\n\u001b[0;32m----> 2\u001b[0;31m \u001b[0;32mfrom\u001b[0m \u001b[0muniparser_morph\u001b[0m \u001b[0;32mimport\u001b[0m \u001b[0mAnalyzer\u001b[0m\u001b[0;34m\u001b[0m\u001b[0;34m\u001b[0m\u001b[0m\n\u001b[0m\u001b[1;32m      3\u001b[0m \u001b[0ma\u001b[0m \u001b[0;34m=\u001b[0m \u001b[0mAnalyzer\u001b[0m\u001b[0;34m(\u001b[0m\u001b[0;34m)\u001b[0m\u001b[0;34m\u001b[0m\u001b[0;34m\u001b[0m\u001b[0m\n\u001b[1;32m      4\u001b[0m \u001b[0;31m# a.lexFile = \"/content/project-753/lexemes.txt\"\u001b[0m\u001b[0;34m\u001b[0m\u001b[0;34m\u001b[0m\u001b[0m\n\u001b[1;32m      5\u001b[0m \u001b[0ma\u001b[0m\u001b[0;34m.\u001b[0m\u001b[0mparadigmFile\u001b[0m \u001b[0;34m=\u001b[0m \u001b[0;34m\"/content/project-753/paradigms.txt\"\u001b[0m\u001b[0;34m\u001b[0m\u001b[0;34m\u001b[0m\u001b[0m\n",
            "\u001b[0;31mModuleNotFoundError\u001b[0m: No module named 'uniparser_morph'",
            "",
            "\u001b[0;31m---------------------------------------------------------------------------\u001b[0;32m\nNOTE: If your import is failing due to a missing package, you can\nmanually install dependencies using either !pip or !apt.\n\nTo view examples of installing some common dependencies, click the\n\"Open Examples\" button below.\n\u001b[0;31m---------------------------------------------------------------------------\u001b[0m\n"
          ],
          "errorDetails": {
            "actions": [
              {
                "action": "open_url",
                "actionText": "Open Examples",
                "url": "/notebooks/snippets/importing_libraries.ipynb"
              }
            ]
          }
        }
      ],
      "source": [
        "from uniparser_morph import Analyzer\n",
        "a = Analyzer()\n",
        "# a.lexFile = \"/content/project-753/lexemes.txt\"\n",
        "a.paradigmFile = \"/content/project-753/paradigms.txt\"\n",
        "a.load_grammar()"
      ]
    },
    {
      "cell_type": "code",
      "source": [
        "analyses = a.analyze_words(['test', \"buenos\"])\n",
        "print(analyses)"
      ],
      "metadata": {
        "colab": {
          "base_uri": "https://localhost:8080/"
        },
        "id": "XpqySNe3bo6y",
        "outputId": "71e20be0-e9ef-47d6-bcb4-5e03c770df09"
      },
      "execution_count": null,
      "outputs": [
        {
          "output_type": "stream",
          "name": "stdout",
          "text": [
            "[[<Wordform object>\n",
            "test\n",
            "test; NOUN,sg\n",
            "test\n",
            "STEM\n",
            "trans_en\ttestus\n",
            "], [<Wordform object>\n",
            "buenos\n",
            "bueno; ADJ,M.Pl\n",
            "buen-os\n",
            "STEM\n",
            "trans_en\tgood\n",
            "]]\n"
          ]
        }
      ]
    },
    {
      "cell_type": "code",
      "source": [
        "with open('lexemes.txt', 'w') as lex:\n",
        "  lex.write(\n",
        "      \"\"\"-lexeme\n",
        " lex: test\n",
        " stem: test.\n",
        " gramm: NOUN\n",
        " paradigm: NOM\n",
        " trans_en: testus\n",
        "      \"\"\"\n",
        "  )\n",
        "with open('paradigms.txt', 'w') as par:\n",
        "  par.write(\n",
        "      \"\"\"-paradigm: NOM\n",
        " -flex: .\n",
        "  gramm: sg\n",
        " -flex: .s\n",
        "  gramm: pl\n",
        "  gloss: PL\n",
        " -flex: .'s\n",
        "  gramm: sg,poss\n",
        "  gloss: POSS\n",
        " -flex: .s'\n",
        "  gramm: pl,poss\n",
        "  gloss: POSS.PL\n",
        "      \"\"\"\n",
        "  )\n"
      ],
      "metadata": {
        "id": "EWAXALUrdkf0"
      },
      "execution_count": null,
      "outputs": []
    },
    {
      "cell_type": "code",
      "source": [
        "import pandas as pd\n",
        "df = pd.read_csv('/content/project-753/spanish.csv', sep=None)"
      ],
      "metadata": {
        "colab": {
          "base_uri": "https://localhost:8080/"
        },
        "id": "ee2Bk_m6-Lg1",
        "outputId": "790ec031-4820-493c-d5a2-e0b312766ec4"
      },
      "execution_count": 2,
      "outputs": [
        {
          "output_type": "stream",
          "name": "stderr",
          "text": [
            "<ipython-input-2-d79e48a46742>:2: ParserWarning: Falling back to the 'python' engine because the 'c' engine does not support sep=None with delim_whitespace=False; you can avoid this warning by specifying engine='python'.\n",
            "  df = pd.read_csv('/content/project-753/spanish.csv', sep=None)\n"
          ]
        }
      ]
    },
    {
      "cell_type": "code",
      "source": [
        "df.head()"
      ],
      "metadata": {
        "colab": {
          "base_uri": "https://localhost:8080/",
          "height": 293
        },
        "id": "BGqsaxjvArEJ",
        "outputId": "c39ce02c-6d3d-4bd5-995e-5853c48c3eff"
      },
      "execution_count": null,
      "outputs": [
        {
          "output_type": "execute_result",
          "data": {
            "text/plain": [
              "     IDX         WORD        POS  \\\n",
              "0  e4348            a     sust.    \n",
              "1  e4349            a     prep.    \n",
              "2   e132       aabruz  extranj.    \n",
              "3   e137        aanca     sust.    \n",
              "4   e138  aaptamiento     sust.    \n",
              "\n",
              "                                            MEANINGS  \\\n",
              "0  {'1': 'Letra del abecedario.', '2': 'Usado par...   \n",
              "1  {'1': 'Denota el complemento de la acción del ...   \n",
              "2                              {'1': 'Calcedonia. '}   \n",
              "3  {'1': 'Pieza en el juego de ajedrez indio.', '...   \n",
              "4  {'1': 'Aptitud, cualidad que hace que un objet...   \n",
              "\n",
              "                                            EXAMPLES  \\\n",
              "0  {'1': ['LAP (1250?-1279?) fol. 113v87, CCN: 00...   \n",
              "1  {'1': ['LAP (1250?-1279?) fol. 1r33, CCN: 0000...   \n",
              "2  {'1': ['LAP (1250?-1279?) fol. 118r41, CCN: 00...   \n",
              "3  {'1': ['ACE (1283) fol. 82r5, CCN: 0000028, el...   \n",
              "4  {'1': ['GE1 (1272-1275) fol. 169v10, CCN: 0000...   \n",
              "\n",
              "                                     ADDITIONAL_INFO  \n",
              "0  {'Formas atestiguadas:\\xa0': ['a'], 'Véase tam...  \n",
              "1    {'Formas atestiguadas:\\xa0': ['a', 'ad', 'ha']}  \n",
              "2  {'Formas atestiguadas:\\xa0': ['aabruz', 'aambr...  \n",
              "3            {'Formas atestiguadas:\\xa0': ['aanca']}  \n",
              "4     {'Formas atestiguadas:\\xa0': ['a abtamiento']}  "
            ],
            "text/html": [
              "\n",
              "  <div id=\"df-bd7e612c-07b5-4abf-9d77-8a2184781b91\" class=\"colab-df-container\">\n",
              "    <div>\n",
              "<style scoped>\n",
              "    .dataframe tbody tr th:only-of-type {\n",
              "        vertical-align: middle;\n",
              "    }\n",
              "\n",
              "    .dataframe tbody tr th {\n",
              "        vertical-align: top;\n",
              "    }\n",
              "\n",
              "    .dataframe thead th {\n",
              "        text-align: right;\n",
              "    }\n",
              "</style>\n",
              "<table border=\"1\" class=\"dataframe\">\n",
              "  <thead>\n",
              "    <tr style=\"text-align: right;\">\n",
              "      <th></th>\n",
              "      <th>IDX</th>\n",
              "      <th>WORD</th>\n",
              "      <th>POS</th>\n",
              "      <th>MEANINGS</th>\n",
              "      <th>EXAMPLES</th>\n",
              "      <th>ADDITIONAL_INFO</th>\n",
              "    </tr>\n",
              "  </thead>\n",
              "  <tbody>\n",
              "    <tr>\n",
              "      <th>0</th>\n",
              "      <td>e4348</td>\n",
              "      <td>a</td>\n",
              "      <td>sust.</td>\n",
              "      <td>{'1': 'Letra del abecedario.', '2': 'Usado par...</td>\n",
              "      <td>{'1': ['LAP (1250?-1279?) fol. 113v87, CCN: 00...</td>\n",
              "      <td>{'Formas atestiguadas:\\xa0': ['a'], 'Véase tam...</td>\n",
              "    </tr>\n",
              "    <tr>\n",
              "      <th>1</th>\n",
              "      <td>e4349</td>\n",
              "      <td>a</td>\n",
              "      <td>prep.</td>\n",
              "      <td>{'1': 'Denota el complemento de la acción del ...</td>\n",
              "      <td>{'1': ['LAP (1250?-1279?) fol. 1r33, CCN: 0000...</td>\n",
              "      <td>{'Formas atestiguadas:\\xa0': ['a', 'ad', 'ha']}</td>\n",
              "    </tr>\n",
              "    <tr>\n",
              "      <th>2</th>\n",
              "      <td>e132</td>\n",
              "      <td>aabruz</td>\n",
              "      <td>extranj.</td>\n",
              "      <td>{'1': 'Calcedonia. '}</td>\n",
              "      <td>{'1': ['LAP (1250?-1279?) fol. 118r41, CCN: 00...</td>\n",
              "      <td>{'Formas atestiguadas:\\xa0': ['aabruz', 'aambr...</td>\n",
              "    </tr>\n",
              "    <tr>\n",
              "      <th>3</th>\n",
              "      <td>e137</td>\n",
              "      <td>aanca</td>\n",
              "      <td>sust.</td>\n",
              "      <td>{'1': 'Pieza en el juego de ajedrez indio.', '...</td>\n",
              "      <td>{'1': ['ACE (1283) fol. 82r5, CCN: 0000028, el...</td>\n",
              "      <td>{'Formas atestiguadas:\\xa0': ['aanca']}</td>\n",
              "    </tr>\n",
              "    <tr>\n",
              "      <th>4</th>\n",
              "      <td>e138</td>\n",
              "      <td>aaptamiento</td>\n",
              "      <td>sust.</td>\n",
              "      <td>{'1': 'Aptitud, cualidad que hace que un objet...</td>\n",
              "      <td>{'1': ['GE1 (1272-1275) fol. 169v10, CCN: 0000...</td>\n",
              "      <td>{'Formas atestiguadas:\\xa0': ['a abtamiento']}</td>\n",
              "    </tr>\n",
              "  </tbody>\n",
              "</table>\n",
              "</div>\n",
              "    <div class=\"colab-df-buttons\">\n",
              "\n",
              "  <div class=\"colab-df-container\">\n",
              "    <button class=\"colab-df-convert\" onclick=\"convertToInteractive('df-bd7e612c-07b5-4abf-9d77-8a2184781b91')\"\n",
              "            title=\"Convert this dataframe to an interactive table.\"\n",
              "            style=\"display:none;\">\n",
              "\n",
              "  <svg xmlns=\"http://www.w3.org/2000/svg\" height=\"24px\" viewBox=\"0 -960 960 960\">\n",
              "    <path d=\"M120-120v-720h720v720H120Zm60-500h600v-160H180v160Zm220 220h160v-160H400v160Zm0 220h160v-160H400v160ZM180-400h160v-160H180v160Zm440 0h160v-160H620v160ZM180-180h160v-160H180v160Zm440 0h160v-160H620v160Z\"/>\n",
              "  </svg>\n",
              "    </button>\n",
              "\n",
              "  <style>\n",
              "    .colab-df-container {\n",
              "      display:flex;\n",
              "      gap: 12px;\n",
              "    }\n",
              "\n",
              "    .colab-df-convert {\n",
              "      background-color: #E8F0FE;\n",
              "      border: none;\n",
              "      border-radius: 50%;\n",
              "      cursor: pointer;\n",
              "      display: none;\n",
              "      fill: #1967D2;\n",
              "      height: 32px;\n",
              "      padding: 0 0 0 0;\n",
              "      width: 32px;\n",
              "    }\n",
              "\n",
              "    .colab-df-convert:hover {\n",
              "      background-color: #E2EBFA;\n",
              "      box-shadow: 0px 1px 2px rgba(60, 64, 67, 0.3), 0px 1px 3px 1px rgba(60, 64, 67, 0.15);\n",
              "      fill: #174EA6;\n",
              "    }\n",
              "\n",
              "    .colab-df-buttons div {\n",
              "      margin-bottom: 4px;\n",
              "    }\n",
              "\n",
              "    [theme=dark] .colab-df-convert {\n",
              "      background-color: #3B4455;\n",
              "      fill: #D2E3FC;\n",
              "    }\n",
              "\n",
              "    [theme=dark] .colab-df-convert:hover {\n",
              "      background-color: #434B5C;\n",
              "      box-shadow: 0px 1px 3px 1px rgba(0, 0, 0, 0.15);\n",
              "      filter: drop-shadow(0px 1px 2px rgba(0, 0, 0, 0.3));\n",
              "      fill: #FFFFFF;\n",
              "    }\n",
              "  </style>\n",
              "\n",
              "    <script>\n",
              "      const buttonEl =\n",
              "        document.querySelector('#df-bd7e612c-07b5-4abf-9d77-8a2184781b91 button.colab-df-convert');\n",
              "      buttonEl.style.display =\n",
              "        google.colab.kernel.accessAllowed ? 'block' : 'none';\n",
              "\n",
              "      async function convertToInteractive(key) {\n",
              "        const element = document.querySelector('#df-bd7e612c-07b5-4abf-9d77-8a2184781b91');\n",
              "        const dataTable =\n",
              "          await google.colab.kernel.invokeFunction('convertToInteractive',\n",
              "                                                    [key], {});\n",
              "        if (!dataTable) return;\n",
              "\n",
              "        const docLinkHtml = 'Like what you see? Visit the ' +\n",
              "          '<a target=\"_blank\" href=https://colab.research.google.com/notebooks/data_table.ipynb>data table notebook</a>'\n",
              "          + ' to learn more about interactive tables.';\n",
              "        element.innerHTML = '';\n",
              "        dataTable['output_type'] = 'display_data';\n",
              "        await google.colab.output.renderOutput(dataTable, element);\n",
              "        const docLink = document.createElement('div');\n",
              "        docLink.innerHTML = docLinkHtml;\n",
              "        element.appendChild(docLink);\n",
              "      }\n",
              "    </script>\n",
              "  </div>\n",
              "\n",
              "\n",
              "<div id=\"df-ca6dbd53-41c3-4735-b36c-1fde5241c08e\">\n",
              "  <button class=\"colab-df-quickchart\" onclick=\"quickchart('df-ca6dbd53-41c3-4735-b36c-1fde5241c08e')\"\n",
              "            title=\"Suggest charts\"\n",
              "            style=\"display:none;\">\n",
              "\n",
              "<svg xmlns=\"http://www.w3.org/2000/svg\" height=\"24px\"viewBox=\"0 0 24 24\"\n",
              "     width=\"24px\">\n",
              "    <g>\n",
              "        <path d=\"M19 3H5c-1.1 0-2 .9-2 2v14c0 1.1.9 2 2 2h14c1.1 0 2-.9 2-2V5c0-1.1-.9-2-2-2zM9 17H7v-7h2v7zm4 0h-2V7h2v10zm4 0h-2v-4h2v4z\"/>\n",
              "    </g>\n",
              "</svg>\n",
              "  </button>\n",
              "\n",
              "<style>\n",
              "  .colab-df-quickchart {\n",
              "      --bg-color: #E8F0FE;\n",
              "      --fill-color: #1967D2;\n",
              "      --hover-bg-color: #E2EBFA;\n",
              "      --hover-fill-color: #174EA6;\n",
              "      --disabled-fill-color: #AAA;\n",
              "      --disabled-bg-color: #DDD;\n",
              "  }\n",
              "\n",
              "  [theme=dark] .colab-df-quickchart {\n",
              "      --bg-color: #3B4455;\n",
              "      --fill-color: #D2E3FC;\n",
              "      --hover-bg-color: #434B5C;\n",
              "      --hover-fill-color: #FFFFFF;\n",
              "      --disabled-bg-color: #3B4455;\n",
              "      --disabled-fill-color: #666;\n",
              "  }\n",
              "\n",
              "  .colab-df-quickchart {\n",
              "    background-color: var(--bg-color);\n",
              "    border: none;\n",
              "    border-radius: 50%;\n",
              "    cursor: pointer;\n",
              "    display: none;\n",
              "    fill: var(--fill-color);\n",
              "    height: 32px;\n",
              "    padding: 0;\n",
              "    width: 32px;\n",
              "  }\n",
              "\n",
              "  .colab-df-quickchart:hover {\n",
              "    background-color: var(--hover-bg-color);\n",
              "    box-shadow: 0 1px 2px rgba(60, 64, 67, 0.3), 0 1px 3px 1px rgba(60, 64, 67, 0.15);\n",
              "    fill: var(--button-hover-fill-color);\n",
              "  }\n",
              "\n",
              "  .colab-df-quickchart-complete:disabled,\n",
              "  .colab-df-quickchart-complete:disabled:hover {\n",
              "    background-color: var(--disabled-bg-color);\n",
              "    fill: var(--disabled-fill-color);\n",
              "    box-shadow: none;\n",
              "  }\n",
              "\n",
              "  .colab-df-spinner {\n",
              "    border: 2px solid var(--fill-color);\n",
              "    border-color: transparent;\n",
              "    border-bottom-color: var(--fill-color);\n",
              "    animation:\n",
              "      spin 1s steps(1) infinite;\n",
              "  }\n",
              "\n",
              "  @keyframes spin {\n",
              "    0% {\n",
              "      border-color: transparent;\n",
              "      border-bottom-color: var(--fill-color);\n",
              "      border-left-color: var(--fill-color);\n",
              "    }\n",
              "    20% {\n",
              "      border-color: transparent;\n",
              "      border-left-color: var(--fill-color);\n",
              "      border-top-color: var(--fill-color);\n",
              "    }\n",
              "    30% {\n",
              "      border-color: transparent;\n",
              "      border-left-color: var(--fill-color);\n",
              "      border-top-color: var(--fill-color);\n",
              "      border-right-color: var(--fill-color);\n",
              "    }\n",
              "    40% {\n",
              "      border-color: transparent;\n",
              "      border-right-color: var(--fill-color);\n",
              "      border-top-color: var(--fill-color);\n",
              "    }\n",
              "    60% {\n",
              "      border-color: transparent;\n",
              "      border-right-color: var(--fill-color);\n",
              "    }\n",
              "    80% {\n",
              "      border-color: transparent;\n",
              "      border-right-color: var(--fill-color);\n",
              "      border-bottom-color: var(--fill-color);\n",
              "    }\n",
              "    90% {\n",
              "      border-color: transparent;\n",
              "      border-bottom-color: var(--fill-color);\n",
              "    }\n",
              "  }\n",
              "</style>\n",
              "\n",
              "  <script>\n",
              "    async function quickchart(key) {\n",
              "      const quickchartButtonEl =\n",
              "        document.querySelector('#' + key + ' button');\n",
              "      quickchartButtonEl.disabled = true;  // To prevent multiple clicks.\n",
              "      quickchartButtonEl.classList.add('colab-df-spinner');\n",
              "      try {\n",
              "        const charts = await google.colab.kernel.invokeFunction(\n",
              "            'suggestCharts', [key], {});\n",
              "      } catch (error) {\n",
              "        console.error('Error during call to suggestCharts:', error);\n",
              "      }\n",
              "      quickchartButtonEl.classList.remove('colab-df-spinner');\n",
              "      quickchartButtonEl.classList.add('colab-df-quickchart-complete');\n",
              "    }\n",
              "    (() => {\n",
              "      let quickchartButtonEl =\n",
              "        document.querySelector('#df-ca6dbd53-41c3-4735-b36c-1fde5241c08e button');\n",
              "      quickchartButtonEl.style.display =\n",
              "        google.colab.kernel.accessAllowed ? 'block' : 'none';\n",
              "    })();\n",
              "  </script>\n",
              "</div>\n",
              "    </div>\n",
              "  </div>\n"
            ],
            "application/vnd.google.colaboratory.intrinsic+json": {
              "type": "dataframe",
              "variable_name": "df",
              "summary": "{\n  \"name\": \"df\",\n  \"rows\": 10356,\n  \"fields\": [\n    {\n      \"column\": \"IDX\",\n      \"properties\": {\n        \"dtype\": \"string\",\n        \"num_unique_values\": 10355,\n        \"samples\": [\n          \"e28003\",\n          \"e27869\",\n          \"e3386\"\n        ],\n        \"semantic_type\": \"\",\n        \"description\": \"\"\n      }\n    },\n    {\n      \"column\": \"WORD\",\n      \"properties\": {\n        \"dtype\": \"string\",\n        \"num_unique_values\": 10226,\n        \"samples\": [\n          \"semejanza\",\n          \"circunferencial\",\n          \"sepultura\"\n        ],\n        \"semantic_type\": \"\",\n        \"description\": \"\"\n      }\n    },\n    {\n      \"column\": \"POS\",\n      \"properties\": {\n        \"dtype\": \"category\",\n        \"num_unique_values\": 15,\n        \"samples\": [\n          \"pron. \",\n          \"conj. \",\n          \"sust. \"\n        ],\n        \"semantic_type\": \"\",\n        \"description\": \"\"\n      }\n    },\n    {\n      \"column\": \"MEANINGS\",\n      \"properties\": {\n        \"dtype\": \"string\",\n        \"num_unique_values\": 9618,\n        \"samples\": [\n          \"{'1': 'alzar cabeza - Salir de la pobreza o desgracia.', '2': 'cabeza de ajo - Conjunto de dientes que forman el bulbo del ajo.', '3': 'cabeza de Algol - Algol.', '4': 'cabeza de linaje - Cabeza de casa.', '5': 'cabeza del diablo - Algol.', '6': 'cabeza del drag\\u00f3n - Nodo ascendente.', '7': 'tornar cabeza - Tener atenci\\u00f3n o consideraci\\u00f3n a ella.', '8': 'Nodo ascendente.', '9': 'Imaginaci\\u00f3n, sentido intelectual discursivo. '}\",\n          \"{'1': 'Representar las palabras o las ideas con letras u otros signos trazados en papel u otra superficie.', '2': 'Componer libros, discursos, etc.', '3': 'Comunicar por escrito alguna cosa.', '4': 'Apuntarse en una lista de nombres para un fin.', '5': 'Inscribir, grabar letreros en piedra u otra materia. '}\",\n          \"{'1': 'Vencejo hecho con mies para atar los haces de la siega. '}\"\n        ],\n        \"semantic_type\": \"\",\n        \"description\": \"\"\n      }\n    },\n    {\n      \"column\": \"EXAMPLES\",\n      \"properties\": {\n        \"dtype\": \"string\",\n        \"num_unique_values\": 10355,\n        \"samples\": [\n          \"{'1': ['LAP (1250?-1279?) fol. 44v24, CCN: 0068663, la piedra aque dizen maihytyz. en esta a entallado como en manera de uides con ramos & con foias por su natura.', 'LAP (1250?-1279?) fol. 54v4, CCN: 0068664, et la estrella meridional que es en las primeras dos que estan delanteras delas quatro que son enel ramo dela uit que tiene en mano la figura de cantoriz.', 'PIC (1256?) fol. 17v80, CCN: 0068665, et el sahumerio es foias de uid.', 'GE1 (1272-1275) fol. 115r27, vid, CCN: 0068666.', 'GE4 (1280) fol. 50v63, vit, CCN: 0068667.', 'GE1 (1272-1275) fol. 15v29, CCN: 0068668, et noe labrando fallo enlos montes uides montesinas cargadas de vuas. & comio dellas & sopieron le muy bien. & uio que era muy buena fruta & demuy buen\\u00e7umo & muy sabroso. et tomo delos sarmientos dellas. & lleuo los & puso los enlo labrado. & planto uinna daquellas uides saluages & crio la.'], '2': ['GE1 (1272-1275) fol. 15v35, CCN: 0068670, et tomo [noe] delos sarmientos dellas. & lleuo los & puso los enlo labrado. & planto uinna daquellas uides saluages & crio la. & desque lleuo unas fizo uino dellas.', 'GE1 (1272-1275) fol. 15v35, CCN: 0068671, et noe labrando fallo enlos montes uides montesinas cargadas de vuas. & comio dellas & sopieron le muy bien. & uio que era muy buena fruta & de muy buen \\u00e7umo & muy sabroso. et tomo delos sarmientos dellas. & lleuo los & puso los enlo labrado. & planto uinna daquellas uides saluages & crio la.']}\",\n          \"{'1': ['GE1 (1272-1275) fol. 50v61, uentear, infinit., CCN: 0067922.', 'GE4 (1280) fol. 273r101, fut. indic. 3 sing., CCN: 0067923, comouudos seran los montes en la uista del. & por la uoluntad del; uenteara el uiento noto que sale del costado del aurego. la uoz del trueno del.', 'GE4 (1280) fol. 273v11, pret. 3 sing., CCN: 0067924, assi echara yelo sobre tierra como sal & demientre que sollare fazer se a como altezas del cardo. ell aguilon frio uiento. & uenteo & elo. & elosse del agua el cristal.'], '2': ['GE4 (1280) fol. 66r89, infinit., CCN: 0067925, & diz daniel. al\\u00e7e los oios estando alli & ui que me parecio un carnero que estaua ante aquel paular. & auie los cuernos muy altos & pero el uno mas alto que el otro. & quel yua cresciendo. despues ueya esse carnero uentear con sus cuernos contra occident & contra aguilon & contra medio dia.']}\",\n          \"{'1': ['EE1 (1270-1284) fol. 120r81, CCN: 0007730, auino assi. que los ereges arrianos andaron siguiendo all emperador costantino tanto con sus falsas predicationes que lo tornaron a su heregia.', 'EE1 (1270-1284) fol. 156v37, CCN: 0007732, e pues quel ell ouo acabado en costantinopla tod aquello por quel enuiara ell emperador; tornosse pora jtalia pora predicar & amonestar al rey theoderigo que era y por que era arriano & onrrador de los arrianos.'], '2': ['EE1 (1270-1284) fol. 155r38, CCN: 0007731, fizo [theoderigo] a muchos reys de los sueuos que eran hereges & mantenien la secta arriana; que seguiessen. a los cristianos & les fiziessen sofrir mucho mal & mucho pessar & los atormentassen & assi fue.']}\"\n        ],\n        \"semantic_type\": \"\",\n        \"description\": \"\"\n      }\n    },\n    {\n      \"column\": \"ADDITIONAL_INFO\",\n      \"properties\": {\n        \"dtype\": \"string\",\n        \"num_unique_values\": 10338,\n        \"samples\": [\n          \"{'Formas atestiguadas:\\\\xa0': ['menudez', 'menudezas']}\",\n          \"{'Formas atestiguadas:\\\\xa0': ['libamentum', 'libamientos']}\",\n          \"{'Formas atestiguadas:\\\\xa0': ['hamapolas']}\"\n        ],\n        \"semantic_type\": \"\",\n        \"description\": \"\"\n      }\n    }\n  ]\n}"
            }
          },
          "metadata": {},
          "execution_count": 49
        }
      ]
    },
    {
      "cell_type": "code",
      "source": [
        "with open('lexemes.txt', 'w') as lex:\n",
        "  pass"
      ],
      "metadata": {
        "id": "Vt0v7FUvVi6X"
      },
      "execution_count": 4,
      "outputs": []
    },
    {
      "cell_type": "code",
      "source": [
        "#NOUN(_V)\n",
        "import re\n",
        "dict_noun_V = df[\n",
        "    (df['WORD'].str.strip().str.fullmatch(r\".+[aoeiuáóéíú]\\b\")) & (df['POS'].str.strip() == 'sust.')\n",
        "]\n",
        "\n",
        "\n",
        "with open('lexemes.txt', 'a') as lex:\n",
        "  for word, other in zip(dict_noun_V['WORD'], dict_noun_V['ADDITIONAL_INFO']):\n",
        "    forms = set([re.sub(r'(.+)s', r'\\1', form) for form in set(eval(other)['Formas atestiguadas:\\xa0'])])\n",
        "    forms.discard(word)\n",
        "    lex.write(\n",
        "f\"\"\"-lexeme\n",
        " lex: {word}\n",
        " stem: {word}.{'|'+'|'.join([form+\".\" for form in forms if form.count(' ') == 0]) if forms else ''}\n",
        " gramm: NOUN\n",
        " paradigm: NOM\n",
        "\"\"\"\n",
        "    )"
      ],
      "metadata": {
        "id": "sJ-Y8kCtLhuY"
      },
      "execution_count": 5,
      "outputs": []
    },
    {
      "cell_type": "code",
      "source": [
        "#NOUN(_C)\n",
        "import re\n",
        "dict_noun_C = df[\n",
        "    (df['WORD'].str.strip().str.fullmatch(r'.*(?!.[aoeiuáóéíú]|os).{2}')) & (df['POS'].str.strip() == 'sust.')\n",
        "]\n",
        "\n",
        "\n",
        "with open('lexemes.txt', 'a') as lex:\n",
        "  for word, other in zip(dict_noun_C['WORD'], dict_noun_C['ADDITIONAL_INFO']):\n",
        "    forms = set([re.sub(r'(.+)es', r'\\1', form) if word[-2:]!='es' else re.sub(r'(.+ess?)es', r'\\1', form) for form in set(eval(other)['Formas atestiguadas:\\xa0'])])\n",
        "    forms.discard(word)\n",
        "    lex.write(\n",
        "f\"\"\"-lexeme\n",
        " lex: {word}\n",
        " stem: {word}.{'|'+'|'.join([form.strip()+\".\" for form in forms if form.strip().count(' ') == 0]) if forms else ''}\n",
        " gramm: NOUN\n",
        " paradigm: NOM_C\n",
        "\"\"\"\n",
        "    )"
      ],
      "metadata": {
        "id": "0cP5x8QxWDMW"
      },
      "execution_count": null,
      "outputs": []
    },
    {
      "cell_type": "code",
      "source": [
        "#NOUN(_os)\n",
        "import re\n",
        "dict_noun_os = df[\n",
        "    (df['WORD'].str.strip().str.fullmatch(r'.+os\\b')) & (df['POS'].str.strip() == 'sust.')\n",
        "]\n",
        "\n",
        "\n",
        "with open('lexemes.txt', 'a') as lex:\n",
        "  for word, other in zip(dict_noun_os['WORD'], dict_noun_os['ADDITIONAL_INFO']):\n",
        "    forms = set(eval(other)['Formas atestiguadas:\\xa0'])\n",
        "    forms.discard(word)\n",
        "    if any([form[-2:]=='es' for form in forms]):\n",
        "      forms = [re.sub(r'(.+)es', r'\\1', form) for form in forms]\n",
        "      lex.write(\n",
        "f\"\"\"-lexeme\n",
        " lex: {word}\n",
        " stem: {word}.{'|'+'|'.join([form.strip()+\".\" for form in forms if form.strip().count(' ') == 0]) if forms else ''}\n",
        " gramm: NOUN\n",
        " paradigm: NOM_C\n",
        "\"\"\")\n",
        "    else:\n",
        "      lex.write(\n",
        "f\"\"\"-lexeme\n",
        " lex: {word}\n",
        " stem: {word}.{'|'+'|'.join([form.strip()+\".\" for form in forms if form.strip().count(' ') == 0]) if forms else ''}\n",
        " gramm: NOUN\n",
        " paradigm: NOM_os\n",
        "\"\"\"\n",
        "    )"
      ],
      "metadata": {
        "id": "JXFOSslhcQds"
      },
      "execution_count": 3,
      "outputs": []
    },
    {
      "cell_type": "code",
      "source": [
        "print(dict_noun_C)"
      ],
      "metadata": {
        "colab": {
          "base_uri": "https://localhost:8080/"
        },
        "collapsed": true,
        "id": "wz095BpWN_ED",
        "outputId": "aafd9b0a-1a31-4e4f-d651-e184aafd9a24"
      },
      "execution_count": null,
      "outputs": [
        {
          "output_type": "stream",
          "name": "stdout",
          "text": [
            "         IDX             WORD     POS  \\\n",
            "1336   e3759       astillejos  sust.    \n",
            "7417  e20137    paralipómenos  sust.    \n",
            "8060  e21875           psilos  sust.    \n",
            "8061  e21876        psintamos  sust.    \n",
            "8130  e22113  quebrantahuesos  sust.    \n",
            "8464  e22990   reñichamientos  sust.    \n",
            "9656  e26327              tos  sust.    \n",
            "9909  e27596          utilios  sust.    \n",
            "\n",
            "                                               MEANINGS  \\\n",
            "1336  {'1': 'Cástor y Pólux, estrellas principales d...   \n",
            "7417  {'1': 'Dos libros canónicos del Antiguo Testam...   \n",
            "8060               {'1': 'Tribu del norte de África. '}   \n",
            "8061                           {'1': 'Cierto pájaro. '}   \n",
            "8130  {'1': 'Ave del orden de las rapaces (Gypaetus ...   \n",
            "8464               {'1': 'Relincho, voz del caballo. '}   \n",
            "9656  {'1': 'Movimiento convulsivo y ruidoso del apa...   \n",
            "9909         {'1': 'Cierta gente o nación germánica. '}   \n",
            "\n",
            "                                               EXAMPLES  \\\n",
            "1336  {'1': ['GE1 (1272-1275) fol. 128r87, CCN: 0008...   \n",
            "7417  {'1': ['GE1 (1272-1275) fol. 283v34, CCN: 0048...   \n",
            "8060  {'1': ['GE1 (1272-1275) fol. 102r54, CCN: 0053...   \n",
            "8061  {'1': ['GE4 (1280) fol. 227v81, CCN: 0053896, ...   \n",
            "8130  {'1': ['MOA (1250?-1300?) fol. 27v7, CCN: 0054...   \n",
            "8464  {'1': ['GE4 (1280) fol. 80r79, CCN: 0056653, d...   \n",
            "9656  {'1': ['LAP (1250?-1279?) fol. 4r48, CCN: 0065...   \n",
            "9909  {'1': ['EE1 (1270-1284) fol. 42r33, CCN: 00664...   \n",
            "\n",
            "                                        ADDITIONAL_INFO  \n",
            "1336  {'Formas atestiguadas:\\xa0': ['astileios', 'as...  \n",
            "7417  {'Formas atestiguadas:\\xa0': ['paralipomenon',...  \n",
            "8060          {'Formas atestiguadas:\\xa0': ['psillos']}  \n",
            "8061        {'Formas atestiguadas:\\xa0': ['psintamos']}  \n",
            "8130  {'Formas atestiguadas:\\xa0': ['crebanta uessos...  \n",
            "8464  {'Formas atestiguadas:\\xa0': ['rennichamientos']}  \n",
            "9656  {'Formas atestiguadas:\\xa0': ['tos', 'toss', '...  \n",
            "9909          {'Formas atestiguadas:\\xa0': ['vtilios']}  \n"
          ]
        }
      ]
    }
  ]
}